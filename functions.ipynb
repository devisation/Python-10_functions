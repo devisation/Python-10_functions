{
 "cells": [
  {
   "cell_type": "markdown",
   "metadata": {},
   "source": [
    "# 1. Finding Prime Number"
   ]
  },
  {
   "cell_type": "code",
   "execution_count": 38,
   "metadata": {},
   "outputs": [],
   "source": [
    "def is_prime(n):\n",
    "    \"\"\"Returns true if the number n is prime, and false otherwise\"\"\"\n",
    "    if n > 1:\n",
    "        for m in range(2, n):\n",
    "            if n % m == 0: \n",
    "                return False\n",
    "        return True\n",
    "    else: return False"
   ]
  },
  {
   "cell_type": "code",
   "execution_count": 50,
   "metadata": {},
   "outputs": [
    {
     "name": "stdout",
     "output_type": "stream",
     "text": [
      "11777 is a prime number.\n"
     ]
    }
   ],
   "source": [
    "number_in = int(input(\"Please enter an integer\"))\n",
    "if is_prime(number_in):\n",
    "    print(f'{number_in} is a prime number.')\n",
    "else: \n",
    "    print(f'{number_in} is not a prime number.')"
   ]
  },
  {
   "cell_type": "markdown",
   "metadata": {},
   "source": [
    "# 2. Rømer temperature"
   ]
  },
  {
   "cell_type": "code",
   "execution_count": 53,
   "metadata": {},
   "outputs": [
    {
     "data": {
      "text/plain": [
       "20.1"
      ]
     },
     "execution_count": 53,
     "metadata": {},
     "output_type": "execute_result"
    }
   ],
   "source": [
    "def celsius_to_romer(T):\n",
    "    \"\"\"Converts a float T (a temperature in degrees Celsius) \\\\\n",
    "       to the equivalent Romer temperature\"\"\"\n",
    "    return ((21. * T) / 40) + 7.5\n",
    "\n",
    "celsius_to_romer(24)"
   ]
  },
  {
   "cell_type": "markdown",
   "metadata": {},
   "source": [
    "# 3. Pixelart planning"
   ]
  },
  {
   "cell_type": "code",
   "execution_count": 54,
   "metadata": {},
   "outputs": [],
   "source": [
    "def is_divisible(L_wall, L_pixel):\n",
    "    \"\"\"Returns true if L_wall (in mm) can fit in it an integer number of pixels, \\\\\n",
    "    each of length L_pixel (in mm), and returns false otherwise.\"\"\"\n",
    "    return int(L_wall) % int(L_pixel) == 0"
   ]
  },
  {
   "cell_type": "markdown",
   "metadata": {},
   "source": [
    "# 4. Blue and red marbles"
   ]
  },
  {
   "cell_type": "code",
   "execution_count": 55,
   "metadata": {},
   "outputs": [
    {
     "data": {
      "text/plain": [
       "0.6"
      ]
     },
     "execution_count": 55,
     "metadata": {},
     "output_type": "execute_result"
    }
   ],
   "source": [
    "def guess_blue(Nb0, Nr0, Nb_pulled, Nr_pulled):\n",
    "    \"\"\"Returns the probability of drawing a blue marble \\\\\n",
    "    from a bag of Nb0 blue marbles and Nr0 red marbles, \\\\\n",
    "    after pulling out Nb_pulled and Nr_pulled blue and red \n",
    "    marbles, respectively.\"\"\"\n",
    "    Nb = Nb0 - Nb_pulled\n",
    "    Nr = Nr0 - Nr_pulled\n",
    "    return (1. * Nb) / (Nb + Nr)\n",
    "\n",
    "guess_blue(5,5,2,3)"
   ]
  },
  {
   "cell_type": "markdown",
   "metadata": {},
   "source": [
    "# 5. Fillable"
   ]
  },
  {
   "cell_type": "code",
   "execution_count": 57,
   "metadata": {},
   "outputs": [
    {
     "data": {
      "text/plain": [
       "False"
      ]
     },
     "execution_count": 57,
     "metadata": {},
     "output_type": "execute_result"
    }
   ],
   "source": [
    "def fillable(stock, merch, n):\n",
    "    \"\"\"Returns true if, according to a dictionary stock containing \\\\\n",
    "    merchandise names and the number of units of each in stock, \\\\\n",
    "    at least n units of merchandise merch are available, and false otherwise.\"\"\"\n",
    "    if stock[merch] >= n: return True\n",
    "    else: return False\n",
    "\n",
    "fillable({'hat': 10}, 'hat', 9)"
   ]
  },
  {
   "cell_type": "markdown",
   "metadata": {},
   "source": [
    "# Take umbrella"
   ]
  },
  {
   "cell_type": "code",
   "execution_count": null,
   "metadata": {},
   "outputs": [],
   "source": [
    "def take_umbrella(weather, prob_rain_today):\n",
    "    \"\"\"Returns true if, according to the weather and the probability \\\\\n",
    "    prob_rain_today of rain today, you should take your umbrella \\\\\n",
    "    when going outside today (50% threshold), and false otherwise.\"\"\"\n",
    "    if weather.lower() in [\"rain\", \"raining\"] or prob_rain_today >= 0.5:\n",
    "        return True\n",
    "    else: return False"
   ]
  }
 ],
 "metadata": {
  "kernelspec": {
   "display_name": "Python 3.9.12 ('datsci')",
   "language": "python",
   "name": "python3"
  },
  "language_info": {
   "codemirror_mode": {
    "name": "ipython",
    "version": 3
   },
   "file_extension": ".py",
   "mimetype": "text/x-python",
   "name": "python",
   "nbconvert_exporter": "python",
   "pygments_lexer": "ipython3",
   "version": "3.9.12"
  },
  "orig_nbformat": 4,
  "vscode": {
   "interpreter": {
    "hash": "ff6bbc059f09f5d67763002880d565854665e18376ee4b40865bcf6ed65b96b4"
   }
  }
 },
 "nbformat": 4,
 "nbformat_minor": 2
}
